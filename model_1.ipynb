{
 "cells": [
  {
   "cell_type": "markdown",
   "source": [
    "Machine Learning Assignment 2 "
   ],
   "metadata": {
    "collapsed": false,
    "pycharm": {
     "name": "#%% md\n"
    }
   }
  },
  {
   "cell_type": "code",
   "execution_count": 410,
   "metadata": {
    "collapsed": true,
    "pycharm": {
     "is_executing": false
    }
   },
   "outputs": [],
   "source": [
    "# imports\n",
    "import tensorflow as tf\n",
    "AUTOTUNE = tf.data.experimental.AUTOTUNE\n",
    "import IPython.display as display\n",
    "from PIL import Image\n",
    "import numpy as np\n",
    "import matplotlib.pyplot as plt\n",
    "import os\n",
    "import pandas as pd\n",
    "import glob\n",
    "\n"
   ]
  },
  {
   "cell_type": "code",
   "execution_count": 411,
   "outputs": [],
   "source": [
    "# setup data \n",
    "image_list = []\n",
    "    # -3 means back one directory\n",
    "# filename/shape/type/label\n",
    "for filepath in glob.glob('images/*/*/*.png', recursive=True):\n",
    "     filename = filepath.split(\"\\\\\")[-1]\n",
    "     sign_shape = filepath.split(\"\\\\\")[-2]\n",
    "     sign_type = filepath.split(\"\\\\\")[-3]\n",
    "     \n",
    "     image_list.append((filepath,sign_shape,sign_type))\n",
    "     \n",
    "data = pd.DataFrame(data=image_list, columns=['image_path','sign_type', 'sign_shape'])\n"
   ],
   "metadata": {
    "collapsed": false,
    "pycharm": {
     "name": "#%%\n",
     "is_executing": false
    }
   }
  },
  {
   "cell_type": "markdown",
   "source": [
    "Dataframes for training and validation"
   ],
   "metadata": {
    "collapsed": false,
    "pycharm": {
     "name": "#%% md\n"
    }
   }
  },
  {
   "cell_type": "code",
   "execution_count": 412,
   "outputs": [
    {
     "name": "stdout",
     "text": [
      "Train\n",
      "                                         image_path         sign_type  \\\n",
      "3359        images\\triangle\\warning\\00899_00002.png           warning   \n",
      "3392        images\\triangle\\warning\\00987_00000.png           warning   \n",
      "2755          images\\square\\parking\\01679_00000.png           parking   \n",
      "2895        images\\triangle\\giveway\\01101_00000.png           giveway   \n",
      "1755             images\\round\\speed\\01916_00001.png             speed   \n",
      "...                                             ...               ...   \n",
      "612     images\\round\\limitedtraffic\\00019_00002.png    limitedtraffic   \n",
      "3665        images\\triangle\\warning\\01850_00001.png           warning   \n",
      "1952  images\\round\\trafficdirective\\01959_00000.png  trafficdirective   \n",
      "3444        images\\triangle\\warning\\01103_00000.png           warning   \n",
      "2422          images\\square\\laneend\\00471_00001.png           laneend   \n",
      "\n",
      "     sign_shape  shapes_num  \n",
      "3359   triangle           4  \n",
      "3392   triangle           4  \n",
      "2755     square           3  \n",
      "2895   triangle           4  \n",
      "1755      round           2  \n",
      "...         ...         ...  \n",
      "612       round           2  \n",
      "3665   triangle           4  \n",
      "1952      round           2  \n",
      "3444   triangle           4  \n",
      "2422     square           3  \n",
      "\n",
      "[2219 rows x 4 columns]\n",
      "test\n",
      "                                         image_path         sign_type  \\\n",
      "573            images\\round\\bicycle\\01713_00002.png           bicycle   \n",
      "2459          images\\square\\laneend\\01353_00000.png           laneend   \n",
      "1186         images\\round\\noparking\\00829_00001.png         noparking   \n",
      "1823  images\\round\\trafficdirective\\00535_00000.png  trafficdirective   \n",
      "2998        images\\triangle\\giveway\\01936_00000.png           giveway   \n",
      "...                                             ...               ...   \n",
      "1430        images\\round\\roundabout\\01352_00001.png        roundabout   \n",
      "1405        images\\round\\roundabout\\01313_00000.png        roundabout   \n",
      "1606             images\\round\\speed\\01244_00001.png             speed   \n",
      "78        images\\diamond\\rightofway\\00937_00002.png        rightofway   \n",
      "306                 images\\hex\\stop\\01162_00002.png              stop   \n",
      "\n",
      "     sign_shape  shapes_num  \n",
      "573       round           2  \n",
      "2459     square           3  \n",
      "1186      round           2  \n",
      "1823      round           2  \n",
      "2998   triangle           4  \n",
      "...         ...         ...  \n",
      "1430      round           2  \n",
      "1405      round           2  \n",
      "1606      round           2  \n",
      "78      diamond           0  \n",
      "306         hex           1  \n",
      "\n",
      "[740 rows x 4 columns]\n",
      "validate\n",
      "                                         image_path         sign_type  \\\n",
      "2698          images\\square\\parking\\01350_00001.png           parking   \n",
      "121       images\\diamond\\rightofway\\01111_00001.png        rightofway   \n",
      "1882  images\\round\\trafficdirective\\01367_00002.png  trafficdirective   \n",
      "1540             images\\round\\speed\\00937_00002.png             speed   \n",
      "2314         images\\square\\crossing\\00670_00000.png          crossing   \n",
      "...                                             ...               ...   \n",
      "2213         images\\square\\continue\\01492_00002.png          continue   \n",
      "3654        images\\triangle\\warning\\01797_00002.png           warning   \n",
      "2888        images\\triangle\\giveway\\01010_00002.png           giveway   \n",
      "302                 images\\hex\\stop\\00715_00002.png              stop   \n",
      "891            images\\round\\noentry\\01054_00000.png           noentry   \n",
      "\n",
      "     sign_shape  shapes_num  \n",
      "2698     square           3  \n",
      "121     diamond           0  \n",
      "1882      round           2  \n",
      "1540      round           2  \n",
      "2314     square           3  \n",
      "...         ...         ...  \n",
      "2213     square           3  \n",
      "3654   triangle           4  \n",
      "2888   triangle           4  \n",
      "302         hex           1  \n",
      "891       round           2  \n",
      "\n",
      "[740 rows x 4 columns]\n"
     ],
     "output_type": "stream"
    }
   ],
   "source": [
    "r_inx = np.random.choice(100, 4)\n",
    "rand_data = data.loc[r_inx,'image_path']\n",
    "\n",
    "# plt.figure(figsize=(16,4))\n",
    "# for i, image_path in enumerate(rand_data):\n",
    "#     im = np.asarray(Image.open(image_path))\n",
    "#     plt.subplot(1,4,i+1)\n",
    "#     plt.imshow(im,cmap='gray')\n",
    "#     plt.axis('off')\n",
    "#     \n",
    "# plt.show()\n",
    "\n",
    "d = {'diamond':0, 'hex':1, 'round':2, 'square':3, 'triangle':4}\n",
    "data['shapes_num'] = data['sign_shape'].map(d, na_action='ignore')\n",
    "\n",
    "\n",
    "\n",
    "train, validate, test = np.split(data.sample(frac=1), [int(.6*len(data)), int(.8*len(data))])\n",
    "print(\"Train\")\n",
    "print(train)\n",
    "print(\"test\")\n",
    "print(test)\n",
    "print(\"validate\")\n",
    "print(validate)\n",
    "\n",
    "N_train_images = train.shape[0]\n",
    "N_val_images = validate.shape[0]\n",
    "N_test_images = test.shape[0]\n",
    "\n",
    "\n"
   ],
   "metadata": {
    "collapsed": false,
    "pycharm": {
     "name": "#%%\n",
     "is_executing": false
    }
   }
  },
  {
   "cell_type": "code",
   "execution_count": 413,
   "outputs": [],
   "source": [
    "from tensorflow.keras.models import Sequential, Model\n",
    "from tensorflow.keras.layers import Conv2D, MaxPooling2D, Lambda\n",
    "from tensorflow.keras.layers import Activation, Dropout, Flatten, Dense, Input\n",
    "from tensorflow.keras import regularizers, optimizers\n",
    "from tensorflow.keras.metrics import categorical_accuracy, sparse_categorical_crossentropy, sparse_categorical_accuracy\n"
   ],
   "metadata": {
    "collapsed": false,
    "pycharm": {
     "name": "#%%\n",
     "is_executing": false
    }
   }
  },
  {
   "cell_type": "code",
   "execution_count": 414,
   "outputs": [
    {
     "name": "stdout",
     "text": [
      "Model: \"sequential_48\"\n",
      "_________________________________________________________________\n",
      "Layer (type)                 Output Shape              Param #   \n",
      "=================================================================\n",
      "lambda_48 (Lambda)           (None, 28, 28, 1)         0         \n",
      "_________________________________________________________________\n",
      "conv2d_245 (Conv2D)          (None, 28, 28, 8)         208       \n",
      "_________________________________________________________________\n",
      "activation_330 (Activation)  (None, 28, 28, 8)         0         \n",
      "_________________________________________________________________\n",
      "batch_normalization_175 (Bat (None, 28, 28, 8)         32        \n",
      "_________________________________________________________________\n",
      "max_pooling2d_172 (MaxPoolin (None, 14, 14, 8)         0         \n",
      "_________________________________________________________________\n",
      "conv2d_246 (Conv2D)          (None, 14, 14, 16)        1168      \n",
      "_________________________________________________________________\n",
      "activation_331 (Activation)  (None, 14, 14, 16)        0         \n",
      "_________________________________________________________________\n",
      "max_pooling2d_173 (MaxPoolin (None, 7, 7, 16)          0         \n",
      "_________________________________________________________________\n",
      "conv2d_247 (Conv2D)          (None, 7, 7, 32)          4640      \n",
      "_________________________________________________________________\n",
      "activation_332 (Activation)  (None, 7, 7, 32)          0         \n",
      "_________________________________________________________________\n",
      "max_pooling2d_174 (MaxPoolin (None, 4, 4, 32)          0         \n",
      "_________________________________________________________________\n",
      "conv2d_248 (Conv2D)          (None, 4, 4, 64)          18496     \n",
      "_________________________________________________________________\n",
      "activation_333 (Activation)  (None, 4, 4, 64)          0         \n",
      "_________________________________________________________________\n",
      "max_pooling2d_175 (MaxPoolin (None, 2, 2, 64)          0         \n",
      "_________________________________________________________________\n",
      "conv2d_249 (Conv2D)          (None, 2, 2, 128)         73856     \n",
      "_________________________________________________________________\n",
      "max_pooling2d_176 (MaxPoolin (None, 1, 1, 128)         0         \n",
      "_________________________________________________________________\n",
      "conv2d_250 (Conv2D)          (None, 1, 1, 256)         33024     \n",
      "_________________________________________________________________\n",
      "max_pooling2d_177 (MaxPoolin (None, 1, 1, 256)         0         \n",
      "_________________________________________________________________\n",
      "dropout_52 (Dropout)         (None, 1, 1, 256)         0         \n",
      "_________________________________________________________________\n",
      "flatten_92 (Flatten)         (None, 256)               0         \n",
      "_________________________________________________________________\n",
      "activation_334 (Activation)  (None, 256)               0         \n",
      "_________________________________________________________________\n",
      "batch_normalization_176 (Bat (None, 256)               1024      \n",
      "_________________________________________________________________\n",
      "flatten_93 (Flatten)         (None, 256)               0         \n",
      "_________________________________________________________________\n",
      "dense_102 (Dense)            (None, 5)                 1285      \n",
      "_________________________________________________________________\n",
      "activation_335 (Activation)  (None, 5)                 0         \n",
      "=================================================================\n",
      "Total params: 133,733\n",
      "Trainable params: 133,205\n",
      "Non-trainable params: 528\n",
      "_________________________________________________________________\n"
     ],
     "output_type": "stream"
    }
   ],
   "source": [
    "from tensorflow.keras.models import Sequential, Model\n",
    "from tensorflow.keras.layers import Conv2D, MaxPooling2D, BatchNormalization\n",
    "from tensorflow.keras.layers import Activation, Dropout, Flatten, Dense\n",
    "from tensorflow.keras import regularizers, optimizers\n",
    "from keras.layers import GaussianNoise\n",
    "\n",
    "sgd = optimizers.SGD(lr=0.001, decay=1e-6, momentum=0.9, nesterov=True)\n",
    "\n",
    "model_cnn = Sequential()\n",
    "\n",
    "# input\n",
    "model_cnn.add(Input(shape=(28, 28, 3)))\n",
    "model_cnn.add(Lambda(lambda x: tf.expand_dims(x[:,:,:,0], -1, name=None))) \n",
    "# this is a workaround. Dataloader automatically read one channel image as 3 channel \n",
    "#and we use Lambda layer to revert this back. Lambda layer can be used for operation \n",
    "#that does not involve trainianble weights\n",
    "\n",
    "\n",
    "# CONV => RELU => BN => POOL\n",
    "model_cnn.add(Conv2D(8, (5, 5), padding=\"same\"))\n",
    "model_cnn.add(Activation(\"relu\"))\n",
    "model_cnn.add(BatchNormalization())\n",
    "model_cnn.add(MaxPooling2D(pool_size=(2, 2), padding='same'))\n",
    "\n",
    "# first set of (CONV => RELU => CONV => RELU) * 2 => POOL\n",
    "model_cnn.add(Conv2D(16, (3, 3), padding=\"same\",kernel_regularizer=regularizers.l2(0.001)))\n",
    "model_cnn.add(Activation(\"relu\"))\n",
    "# model_cnn.add(Conv2D(16, (3, 3), padding=\"same\",kernel_regularizer=regularizers.l2(0.001)))\n",
    "# model_cnn.add(Activation(\"relu\"))\n",
    "model_cnn.add(MaxPooling2D(pool_size=(2, 2), padding='same'))\n",
    "\n",
    "# first set of (CONV => RELU => CONV => RELU) * 2 => POOL\n",
    "model_cnn.add(Conv2D(32, (3, 3), padding=\"same\",kernel_regularizer=regularizers.l2(0.001)))\n",
    "model_cnn.add(Activation(\"relu\"))\n",
    "# model_cnn.add(Conv2D(16, (3, 3), padding=\"same\",kernel_regularizer=regularizers.l2(0.001)))\n",
    "# model_cnn.add(Activation(\"relu\"))\n",
    "model_cnn.add(MaxPooling2D(pool_size=(2, 2), padding='same'))\n",
    "\n",
    "\n",
    "# second set of (CONV => RELU => CONV => RELU) * 2 => POOL\n",
    "# model_cnn.add(Conv2D(64, (3, 3), padding=\"same\",kernel_regularizer=regularizers.l2(0.001)))\n",
    "model_cnn.add(Conv2D(64, (3, 3), padding=\"same\",kernel_regularizer=regularizers.l2(0.001)))\n",
    "model_cnn.add(Activation(\"relu\"))\n",
    "model_cnn.add(MaxPooling2D(pool_size=(2, 2), padding='same'))\n",
    "\n",
    "# model_cnn.add(Conv2D(128, (3, 3), padding='same',activation='relu'))\n",
    "model_cnn.add(Conv2D(128, (3, 3), padding='same', activation='relu',kernel_regularizer=regularizers.l2(0.001)))\n",
    "model_cnn.add(MaxPooling2D(pool_size=(2, 2), padding='same'))\n",
    "\n",
    "model_cnn.add(Conv2D(256, (1, 1), padding='same', activation='relu',kernel_regularizer=regularizers.l2(0.001)))\n",
    "model_cnn.add(MaxPooling2D(pool_size=(2, 2), padding='same'))\n",
    "model_cnn.add(Dropout(0.2))\n",
    "\n",
    "# second set of FC => RELU layers\n",
    "model_cnn.add(Flatten())\n",
    "# model_cnn.add(Dense(128))\n",
    "model_cnn.add(Activation(\"relu\"))\n",
    "model_cnn.add(BatchNormalization())\n",
    "model_cnn.add(Flatten())\n",
    "\n",
    "\n",
    "model_cnn.add(Dense(5))\n",
    "model_cnn.add(Activation('softmax'))\n",
    "\n",
    "\n",
    "\n",
    "model_cnn.compile(loss='categorical_crossentropy',\n",
    "              optimizer=sgd,\n",
    "              metrics=['accuracy'])\n",
    "\n",
    "model_cnn.summary()"
   ],
   "metadata": {
    "collapsed": false,
    "pycharm": {
     "name": "#%%\n",
     "is_executing": false
    }
   }
  },
  {
   "cell_type": "code",
   "execution_count": 415,
   "outputs": [
    {
     "name": "stdout",
     "text": [
      "Found 2219 validated image filenames belonging to 5 classes.\n",
      "Found 740 validated image filenames belonging to 5 classes.\n",
      "Found 740 validated image filenames.\n"
     ],
     "output_type": "stream"
    }
   ],
   "source": [
    "from tensorflow.keras.preprocessing.image import ImageDataGenerator\n",
    "\n",
    "train_datagen = ImageDataGenerator(rescale=1./255, data_format='channels_last',\n",
    "                                   rotation_range=20, width_shift_range=0.2,\n",
    "                                   height_shift_range=0.2,\n",
    "                                   horizontal_flip=True,fill_mode='nearest')\n",
    "                                \n",
    "                                   \n",
    "val_datagen = ImageDataGenerator(rescale=1./255, data_format='channels_last',\n",
    "                                   rotation_range=20, width_shift_range=0.2,\n",
    "                                   height_shift_range=0.2,\n",
    "                                   horizontal_flip=True,fill_mode='nearest')\n",
    "test_datagen = ImageDataGenerator(rescale=1./255, data_format='channels_last')\n",
    "\n",
    "batch_size = 60\n",
    "\n",
    "train_generator = train_datagen.flow_from_dataframe(\n",
    "        dataframe=train,\n",
    "        directory='./',\n",
    "        x_col=\"image_path\",\n",
    "        y_col=\"sign_shape\",\n",
    "        target_size=(28, 28),\n",
    "        batch_size=batch_size,\n",
    "        class_mode='categorical')\n",
    "\n",
    "validation_generator = val_datagen.flow_from_dataframe(\n",
    "        dataframe=validate,\n",
    "        directory='./',\n",
    "        x_col=\"image_path\",\n",
    "        y_col=\"sign_shape\",\n",
    "        target_size=(28, 28),\n",
    "        batch_size=batch_size,\n",
    "        class_mode='categorical')\n",
    "\n",
    "test_generator = test_datagen.flow_from_dataframe(\n",
    "        dataframe=test,\n",
    "        directory='./',\n",
    "        x_col=\"image_path\",\n",
    "        y_col=\"sign_shape\",\n",
    "        target_size=(28, 28),\n",
    "        batch_size=batch_size,\n",
    "        class_mode=None, shuffle=False\n",
    ")\n",
    "\n"
   ],
   "metadata": {
    "collapsed": false,
    "pycharm": {
     "name": "#%%\n",
     "is_executing": false
    }
   }
  },
  {
   "cell_type": "code",
   "execution_count": 416,
   "outputs": [],
   "source": [
    "def calculate_losses(model_in, data_generator_in, N_images, batch_size_):\n",
    "    loss_hold = []\n",
    "    acc_hold = []\n",
    "    batches = 0\n",
    "\n",
    "    # iterate over each batch\n",
    "    for x,y in data_generator_in:\n",
    "        loss, acc = model_in.evaluate(x, y, verbose=0)\n",
    "        loss_hold.append(loss)\n",
    "        acc_hold.append(acc)\n",
    "        batches += 1\n",
    "        if batches >= N_images / batch_size_:\n",
    "            # we need to break the loop by hand because the generator loops indefinitely\n",
    "            break\n",
    "\n",
    "    return np.mean(loss_hold), np.mean(acc_hold)\n"
   ],
   "metadata": {
    "collapsed": false,
    "pycharm": {
     "name": "#%%\n",
     "is_executing": false
    }
   }
  },
  {
   "cell_type": "code",
   "execution_count": 417,
   "outputs": [],
   "source": [
    "def train_model(model_, num_epoch=40, verbose=False):\n",
    "    res = []\n",
    "    for e in range(num_epoch):\n",
    "        # print('Epoch', e)\n",
    "        batches = 0\n",
    "\n",
    "        loss_ = []\n",
    "        acc_ = []\n",
    "\n",
    "         # iterate over each batch\n",
    "        for x,y in train_generator:\n",
    "            loss, acc = model_.train_on_batch(x, y) # Update weights and return train loss, acc per batch\n",
    "            loss_.append(loss)\n",
    "            acc_.append(acc)\n",
    "            batches += 1\n",
    "            if batches >= N_train_images / batch_size:\n",
    "                # we need to break the loop by hand because\n",
    "                # the generator loops indefinitely\n",
    "                break\n",
    "        loss_ = np.mean(loss_)\n",
    "        acc_ = np.mean(acc_)\n",
    "\n",
    "        loss, acc = calculate_losses(model_, validation_generator, N_val_images, batch_size)\n",
    "        if verbose:\n",
    "            print(\"Training epoch {}: Loss = {}, Accuracy = {}\".format(e, loss_, acc_))\n",
    "            print(\"Validation epoch {}: Loss = {}, Accuracy = {}\".format(e, loss, acc))\n",
    "\n",
    "        res.append((e, loss_, acc_, loss, acc))\n",
    "\n",
    "    # model_.save('model.h5')\n",
    "    # print('Model saved')\n",
    "\n",
    "    return np.asarray(res)"
   ],
   "metadata": {
    "collapsed": false,
    "pycharm": {
     "name": "#%%\n",
     "is_executing": false
    }
   }
  },
  {
   "cell_type": "code",
   "execution_count": 418,
   "outputs": [
    {
     "name": "stdout",
     "text": [
      "Training epoch 0: Loss = 1.9813919067382812, Accuracy = 0.296556681394577\n",
      "Validation epoch 0: Loss = 1.8310419583931952, Accuracy = 0.4910256266593933\n",
      "Training epoch 1: Loss = 1.648881435394287, Accuracy = 0.48339059948921204\n",
      "Validation epoch 1: Loss = 1.7477218481210561, Accuracy = 0.48846152424812317\n",
      "Training epoch 2: Loss = 1.408337116241455, Accuracy = 0.6103355288505554\n",
      "Validation epoch 2: Loss = 1.701768469199156, Accuracy = 0.4884614944458008\n",
      "Training epoch 3: Loss = 1.2611494064331055, Accuracy = 0.6597343683242798\n",
      "Validation epoch 3: Loss = 1.6707866479188966, Accuracy = 0.4884614944458008\n",
      "Training epoch 4: Loss = 1.1267896890640259, Accuracy = 0.728368878364563\n",
      "Validation epoch 4: Loss = 1.656761449422592, Accuracy = 0.48076918721199036\n",
      "Training epoch 5: Loss = 1.0872975587844849, Accuracy = 0.7406817078590393\n",
      "Validation epoch 5: Loss = 1.6075320659539638, Accuracy = 0.4961538314819336\n",
      "Training epoch 6: Loss = 1.0229161977767944, Accuracy = 0.7628282308578491\n",
      "Validation epoch 6: Loss = 1.54299596456381, Accuracy = 0.5064102411270142\n",
      "Training epoch 7: Loss = 0.9670512080192566, Accuracy = 0.7858985662460327\n",
      "Validation epoch 7: Loss = 1.6408192108838986, Accuracy = 0.49358972907066345\n",
      "Training epoch 8: Loss = 0.9240084290504456, Accuracy = 0.7958542704582214\n",
      "Validation epoch 8: Loss = 1.4878703985458763, Accuracy = 0.5102564096450806\n",
      "Training epoch 9: Loss = 0.8445894718170166, Accuracy = 0.8361696004867554\n",
      "Validation epoch 9: Loss = 1.4306964721435154, Accuracy = 0.5115384459495544\n",
      "Training epoch 10: Loss = 0.8318891525268555, Accuracy = 0.8321384787559509\n",
      "Validation epoch 10: Loss = 1.3050082735526254, Accuracy = 0.5935897827148438\n",
      "Training epoch 11: Loss = 0.8173418641090393, Accuracy = 0.8357115983963013\n",
      "Validation epoch 11: Loss = 1.1226612408955892, Accuracy = 0.6769230365753174\n",
      "Training epoch 12: Loss = 0.7680208683013916, Accuracy = 0.855344295501709\n",
      "Validation epoch 12: Loss = 1.3804691626475407, Accuracy = 0.5602564215660095\n",
      "Training epoch 13: Loss = 0.7212058305740356, Accuracy = 0.8689857721328735\n",
      "Validation epoch 13: Loss = 0.8832826724419227, Accuracy = 0.778205156326294\n",
      "Training epoch 14: Loss = 0.6957982778549194, Accuracy = 0.8841959834098816\n",
      "Validation epoch 14: Loss = 0.8091607194680435, Accuracy = 0.8551282286643982\n",
      "Training epoch 15: Loss = 0.6815271377563477, Accuracy = 0.8849309086799622\n",
      "Validation epoch 15: Loss = 0.813769166286175, Accuracy = 0.8500000238418579\n",
      "Training epoch 16: Loss = 0.7075564861297607, Accuracy = 0.8774392604827881\n",
      "Validation epoch 16: Loss = 0.8472156561337985, Accuracy = 0.8269230723381042\n",
      "Training epoch 17: Loss = 0.6452465653419495, Accuracy = 0.9000898003578186\n",
      "Validation epoch 17: Loss = 0.6806369692851336, Accuracy = 0.8948717713356018\n",
      "Training epoch 18: Loss = 0.6507186889648438, Accuracy = 0.899503767490387\n",
      "Validation epoch 18: Loss = 1.2704450864058274, Accuracy = 0.6884616017341614\n",
      "Training epoch 19: Loss = 0.657132089138031, Accuracy = 0.8891128301620483\n",
      "Validation epoch 19: Loss = 0.7575966073916509, Accuracy = 0.870512843132019\n",
      "Training epoch 20: Loss = 0.6449158191680908, Accuracy = 0.8979425430297852\n",
      "Validation epoch 20: Loss = 0.7048668250059471, Accuracy = 0.8769229650497437\n",
      "Training epoch 21: Loss = 0.6190760731697083, Accuracy = 0.9014180302619934\n",
      "Validation epoch 21: Loss = 0.7196969451048436, Accuracy = 0.8692308068275452\n",
      "Training epoch 22: Loss = 0.5953409671783447, Accuracy = 0.9116658568382263\n",
      "Validation epoch 22: Loss = 0.6323117181276664, Accuracy = 0.894871711730957\n",
      "Training epoch 23: Loss = 0.5896211266517639, Accuracy = 0.915067195892334\n",
      "Validation epoch 23: Loss = 0.9050493625494149, Accuracy = 0.8230769634246826\n",
      "Training epoch 24: Loss = 0.5810038447380066, Accuracy = 0.9193465709686279\n",
      "Validation epoch 24: Loss = 0.7567648664498942, Accuracy = 0.8782050609588623\n",
      "Training epoch 25: Loss = 0.5884132981300354, Accuracy = 0.9106828570365906\n",
      "Validation epoch 25: Loss = 0.6376776741101191, Accuracy = 0.8961538076400757\n",
      "Training epoch 26: Loss = 0.5650672316551208, Accuracy = 0.9229425191879272\n",
      "Validation epoch 26: Loss = 0.9620959810721568, Accuracy = 0.7743590474128723\n",
      "Training epoch 27: Loss = 0.5748274326324463, Accuracy = 0.9205852150917053\n",
      "Validation epoch 27: Loss = 0.8572217519466694, Accuracy = 0.8153846263885498\n",
      "Training epoch 28: Loss = 0.5789223909378052, Accuracy = 0.9212609529495239\n",
      "Validation epoch 28: Loss = 0.6705022695737006, Accuracy = 0.8756409883499146\n",
      "Training epoch 29: Loss = 0.5613417029380798, Accuracy = 0.9214631915092468\n",
      "Validation epoch 29: Loss = 0.9364445181993337, Accuracy = 0.8256410360336304\n",
      "Training epoch 30: Loss = 0.5394417643547058, Accuracy = 0.9320487976074219\n",
      "Validation epoch 30: Loss = 0.8761129443462077, Accuracy = 0.8089743852615356\n",
      "Training epoch 31: Loss = 0.5672487616539001, Accuracy = 0.9223793745040894\n",
      "Validation epoch 31: Loss = 0.6034240649296687, Accuracy = 0.9051282405853271\n",
      "Training epoch 32: Loss = 0.5419434309005737, Accuracy = 0.9252023696899414\n",
      "Validation epoch 32: Loss = 0.9348116520123604, Accuracy = 0.812820553779602\n",
      "Training epoch 33: Loss = 0.5380699634552002, Accuracy = 0.9308330416679382\n",
      "Validation epoch 33: Loss = 0.6443590407188122, Accuracy = 0.8987179398536682\n",
      "Training epoch 34: Loss = 0.5317832827568054, Accuracy = 0.9328753352165222\n",
      "Validation epoch 34: Loss = 0.8184835837437556, Accuracy = 0.8474359512329102\n",
      "Training epoch 35: Loss = 0.4994087815284729, Accuracy = 0.9452398419380188\n",
      "Validation epoch 35: Loss = 0.6699629936462793, Accuracy = 0.8769230246543884\n",
      "Training epoch 36: Loss = 0.5228268504142761, Accuracy = 0.9386032819747925\n",
      "Validation epoch 36: Loss = 0.5147528156256065, Accuracy = 0.9333332777023315\n",
      "Training epoch 37: Loss = 0.5251330137252808, Accuracy = 0.9366964101791382\n",
      "Validation epoch 37: Loss = 0.5006083465539493, Accuracy = 0.9294871687889099\n",
      "Training epoch 38: Loss = 0.5096731185913086, Accuracy = 0.9400671720504761\n",
      "Validation epoch 38: Loss = 0.5403250810427543, Accuracy = 0.9243589639663696\n",
      "Training epoch 39: Loss = 0.5142694711685181, Accuracy = 0.941185712814331\n",
      "Validation epoch 39: Loss = 0.508443407370494, Accuracy = 0.9384615421295166\n"
     ],
     "output_type": "stream"
    }
   ],
   "source": [
    "from keras.callbacks import LearningRateScheduler, ModelCheckpoint\n",
    "\n",
    "res = train_model(model_cnn, num_epoch=40, verbose=True)\n",
    "# model_cnn.fit_generator(train_generator,\n",
    "#                               validation_data=validation_generator, epochs=30)\n",
    "# model_cnn.save_weights('first_try.h5')"
   ],
   "metadata": {
    "collapsed": false,
    "pycharm": {
     "name": "#%%\n",
     "is_executing": false
    }
   }
  },
  {
   "cell_type": "code",
   "execution_count": 419,
   "outputs": [],
   "source": [
    "def plot_results(res):\n",
    "    plt.figure(figsize=(12,4))\n",
    "    plt.subplot(1,2,1)\n",
    "    plt.plot(res[:,0], res[:,1], 'r-')\n",
    "    plt.plot(res[:,0], res[:,3], 'b-')\n",
    "    plt.legend(['Train', 'Validation'])\n",
    "    plt.xlabel('epoch')\n",
    "    plt.ylabel('Loss')\n",
    "    plt.ylim([0, np.max([5., np.max(res[:,1]), np.max(res[:,3])])])\n",
    "\n",
    "    plt.subplot(1,2,2)\n",
    "    plt.plot(res[:,0], res[:,2], 'r-')\n",
    "    plt.plot(res[:,0], res[:,4], 'b-')\n",
    "    plt.legend(['Train', 'Validation'])\n",
    "    plt.xlabel('epoch')\n",
    "    plt.ylabel('Accuracy')\n",
    "    plt.ylim([0, np.max([1., np.max(res[:,2]), np.max(res[:,4])])])\n"
   ],
   "metadata": {
    "collapsed": false,
    "pycharm": {
     "name": "#%%\n",
     "is_executing": false
    }
   }
  },
  {
   "cell_type": "code",
   "execution_count": 420,
   "outputs": [
    {
     "data": {
      "text/plain": "<Figure size 864x288 with 2 Axes>",
      "image/png": "[encoded data removed]"
     },
     "metadata": {
      "needs_background": "light"
     },
     "output_type": "display_data"
    }
   ],
   "source": [
    "plot_results(res)"
   ],
   "metadata": {
    "collapsed": false,
    "pycharm": {
     "name": "#%%\n",
     "is_executing": false
    }
   }
  },
  {
   "cell_type": "code",
   "execution_count": 421,
   "outputs": [
    {
     "name": "stdout",
     "text": [
      "2\n",
      "<keras_preprocessing.image.dataframe_iterator.DataFrameIterator object at 0x000002C223B72148>\n",
      "                                          Filename Predictions\n",
      "0             images\\round\\bicycle\\01713_00002.png       round\n",
      "1            images\\square\\laneend\\01353_00000.png      square\n",
      "2           images\\round\\noparking\\00829_00001.png       round\n",
      "3    images\\round\\trafficdirective\\00535_00000.png       round\n",
      "4          images\\triangle\\giveway\\01936_00000.png    triangle\n",
      "..                                             ...         ...\n",
      "735        images\\round\\roundabout\\01352_00001.png       round\n",
      "736        images\\round\\roundabout\\01313_00000.png       round\n",
      "737             images\\round\\speed\\01244_00001.png       round\n",
      "738      images\\diamond\\rightofway\\00937_00002.png     diamond\n",
      "739                images\\hex\\stop\\01162_00002.png       round\n",
      "\n",
      "[740 rows x 2 columns]\n"
     ],
     "output_type": "stream"
    }
   ],
   "source": [
    "from sklearn.metrics import multilabel_confusion_matrix\n",
    "from keras.models import model_from_json\n",
    "\n",
    "\n",
    "pred = model_cnn.predict(test_generator)\n",
    "print(np.argmax(pred[0]))\n",
    "\n",
    "predicted_class_indices=np.argmax(pred,axis=1)\n",
    "\n",
    "print(test_generator)\n",
    "\n",
    "labels = train_generator.class_indices\n",
    "labels = dict((v,k) for k,v in labels.items())\n",
    "\n",
    "predictions = [labels[k] for k in predicted_class_indices]\n",
    "\n",
    "\n",
    "filenames=test_generator.filenames\n",
    "\n",
    "results=pd.DataFrame({\"Filename\":filenames,\n",
    "                      \"Predictions\":predictions})\n",
    "print(results)"
   ],
   "metadata": {
    "collapsed": false,
    "pycharm": {
     "name": "#%%\n",
     "is_executing": false
    }
   }
  }
 ],
 "metadata": {
  "kernelspec": {
   "display_name": "Python 3",
   "language": "python",
   "name": "python3"
  },
  "language_info": {
   "codemirror_mode": {
    "name": "ipython",
    "version": 2
   },
   "file_extension": ".py",
   "mimetype": "text/x-python",
   "name": "python",
   "nbconvert_exporter": "python",
   "pygments_lexer": "ipython2",
   "version": "2.7.6"
  },
  "pycharm": {
   "stem_cell": {
    "cell_type": "raw",
    "source": [],
    "metadata": {
     "collapsed": false
    }
   }
  }
 },
 "nbformat": 4,
 "nbformat_minor": 0
}