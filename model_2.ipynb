{
 "cells": [
  {
   "cell_type": "markdown",
   "metadata": {
    "collapsed": true,
    "pycharm": {
     "name": "#%% md\n"
    }
   },
   "source": [
    "# Type Model\n",
    "Prepare the Data"
   ]
  },
  {
   "cell_type": "code",
   "execution_count": 2,
   "outputs": [],
   "source": [
    "import tensorflow as tf\n",
    "AUTOTUNE = tf.data.experimental.AUTOTUNE\n",
    "\n",
    "import IPython.display as display\n",
    "from PIL import Image\n",
    "import numpy as np\n",
    "import matplotlib.pyplot as plt\n",
    "import os\n",
    "import pandas as pd\n",
    "import glob\n",
    "\n"
   ],
   "metadata": {
    "collapsed": false,
    "pycharm": {
     "name": "#%%\n",
     "is_executing": false
    }
   }
  },
  {
   "cell_type": "code",
   "execution_count": 39,
   "outputs": [],
   "source": [
    "# setup data \n",
    "image_list = []\n",
    "    # -3 means back one directory\n",
    "# filename/shape/type/label\n",
    "for filepath in glob.glob('images/*/*/*.png', recursive=True):\n",
    "     filename = filepath.split(\"\\\\\")[-1]\n",
    "     sign_shape = filepath.split(\"\\\\\")[-2]\n",
    "     sign_type = filepath.split(\"\\\\\")[-3]\n",
    "     \n",
    "     image_list.append((filepath,sign_shape,sign_type))\n",
    "     \n",
    "data = pd.DataFrame(data=image_list, columns=['image_path','sign_type', 'sign_shape'])\n"
   ],
   "metadata": {
    "collapsed": false,
    "pycharm": {
     "name": "#%%\n",
     "is_executing": false
    }
   }
  },
  {
   "cell_type": "markdown",
   "source": [
    "Dataframes for training and validation"
   ],
   "metadata": {
    "collapsed": false
   }
  },
  {
   "cell_type": "code",
   "execution_count": 34,
   "outputs": [
    {
     "name": "stdout",
     "text": [
      "                                     image_path   sign_type sign_shape  \\\n",
      "0     images\\diamond\\rightofway\\00032_00000.png  rightofway    diamond   \n",
      "1     images\\diamond\\rightofway\\00032_00001.png  rightofway    diamond   \n",
      "2     images\\diamond\\rightofway\\00032_00002.png  rightofway    diamond   \n",
      "3     images\\diamond\\rightofway\\00037_00000.png  rightofway    diamond   \n",
      "4     images\\diamond\\rightofway\\00037_00001.png  rightofway    diamond   \n",
      "...                                         ...         ...        ...   \n",
      "3694    images\\triangle\\warning\\01947_00001.png     warning   triangle   \n",
      "3695    images\\triangle\\warning\\01947_00002.png     warning   triangle   \n",
      "3696    images\\triangle\\warning\\01971_00000.png     warning   triangle   \n",
      "3697    images\\triangle\\warning\\01971_00001.png     warning   triangle   \n",
      "3698    images\\triangle\\warning\\01971_00002.png     warning   triangle   \n",
      "\n",
      "      type_num  \n",
      "0            0  \n",
      "1            0  \n",
      "2            0  \n",
      "3            0  \n",
      "4            0  \n",
      "...        ...  \n",
      "3694        15  \n",
      "3695        15  \n",
      "3696        15  \n",
      "3697        15  \n",
      "3698        15  \n",
      "\n",
      "[3699 rows x 4 columns]\n"
     ],
     "output_type": "stream"
    }
   ],
   "source": [
    "r_inx = np.random.choice(100, 4)\n",
    "rand_data = data.loc[r_inx,'image_path']\n",
    "\n",
    "\n",
    "d = {'rightofway':0, 'stop':1, 'bicycle':2,\n",
    "     'limitedtraffic':3, 'noentry':4, 'noparking':5,\n",
    "     'roundabout':6, 'speed':7,'trafficdirective':8,\n",
    "     'traveldirection':9,'continue':10,'crossing':11,\n",
    "     'laneend':12, 'parking':13, 'giveway':14, 'warning':15}\n",
    "data['type_num'] = data['sign_type'].map(d, na_action='ignore')\n",
    "\n",
    "print(data)\n",
    "\n",
    "train, validate, test = np.split(data.sample(frac=1), [int(.6*len(data)), int(.8*len(data))])\n",
    "\n",
    "\n",
    "N_train_images = train.shape[0]\n",
    "N_val_images = validate.shape[0]\n",
    "N_test_images = test.shape[0]"
   ],
   "metadata": {
    "collapsed": false,
    "pycharm": {
     "name": "#%%\n",
     "is_executing": false
    }
   }
  },
  {
   "cell_type": "code",
   "execution_count": 14,
   "outputs": [
    {
     "name": "stdout",
     "text": [
      "Found 2219 validated image filenames belonging to 16 classes.\n",
      "Found 740 validated image filenames belonging to 16 classes.\n",
      "Found 740 validated image filenames belonging to 16 classes.\n"
     ],
     "output_type": "stream"
    }
   ],
   "source": [
    "from tensorflow.keras.preprocessing.image import ImageDataGenerator\n",
    "\n",
    "train_datagen = ImageDataGenerator(rescale=1./255, data_format='channels_last',\n",
    "                                   rotation_range=10, width_shift_range=0.2,\n",
    "                                   height_shift_range=0.2,\n",
    "                                   fill_mode='nearest')\n",
    "                                \n",
    "                                   \n",
    "val_datagen = ImageDataGenerator(rescale=1./255, data_format='channels_last',\n",
    "                                   rotation_range=10, width_shift_range=0.2,\n",
    "                                   height_shift_range=0.2,\n",
    "                                   fill_mode='nearest')\n",
    "test_datagen = ImageDataGenerator(rescale=1./255, data_format='channels_last')\n",
    "\n",
    "\n",
    "batch_size = 72\n",
    "\n",
    "train_generator = train_datagen.flow_from_dataframe(\n",
    "        dataframe=train,\n",
    "        directory='./',\n",
    "        x_col=\"image_path\",\n",
    "        y_col=\"sign_type\",\n",
    "        target_size=(28, 28),\n",
    "        batch_size=batch_size,\n",
    "        class_mode='categorical')\n",
    "\n",
    "validation_generator = val_datagen.flow_from_dataframe(\n",
    "        dataframe=validate,\n",
    "        directory='./',\n",
    "        x_col=\"image_path\",\n",
    "        y_col=\"sign_type\",\n",
    "        target_size=(28, 28),\n",
    "        batch_size=batch_size,\n",
    "        class_mode='categorical')\n",
    "\n",
    "test_generator = test_datagen.flow_from_dataframe(\n",
    "        dataframe=test,\n",
    "        directory='./',\n",
    "        x_col=\"image_path\",\n",
    "        y_col=\"sign_type\",\n",
    "        target_size=(28, 28),\n",
    "        batch_size=batch_size,\n",
    "        class_mode='categorical', shuffle=False\n",
    ")\n"
   ],
   "metadata": {
    "collapsed": false,
    "pycharm": {
     "name": "#%%\n",
     "is_executing": false
    }
   }
  },
  {
   "cell_type": "code",
   "execution_count": 6,
   "outputs": [],
   "source": [
    "from tensorflow.keras.models import Sequential, Model\n",
    "from tensorflow.keras.layers import Conv2D, MaxPooling2D, Lambda\n",
    "from tensorflow.keras.layers import Activation, Dropout, Flatten, Dense, Input\n",
    "from tensorflow.keras import regularizers, optimizers\n",
    "from tensorflow.keras.metrics import categorical_accuracy, sparse_categorical_crossentropy, sparse_categorical_accuracy\n"
   ],
   "metadata": {
    "collapsed": false,
    "pycharm": {
     "name": "#%%\n",
     "is_executing": false
    }
   }
  },
  {
   "cell_type": "code",
   "execution_count": 7,
   "outputs": [
    {
     "name": "stderr",
     "text": [
      "Using TensorFlow backend.\n"
     ],
     "output_type": "stream"
    },
    {
     "name": "stdout",
     "text": [
      "Model: \"sequential\"\n",
      "_________________________________________________________________\n",
      "Layer (type)                 Output Shape              Param #   \n",
      "=================================================================\n",
      "lambda (Lambda)              (None, 28, 28, 1)         0         \n",
      "_________________________________________________________________\n",
      "conv2d (Conv2D)              (None, 24, 24, 8)         208       \n",
      "_________________________________________________________________\n",
      "batch_normalization (BatchNo (None, 24, 24, 8)         32        \n",
      "_________________________________________________________________\n",
      "activation (Activation)      (None, 24, 24, 8)         0         \n",
      "_________________________________________________________________\n",
      "max_pooling2d (MaxPooling2D) (None, 12, 12, 8)         0         \n",
      "_________________________________________________________________\n",
      "conv2d_1 (Conv2D)            (None, 10, 10, 16)        1168      \n",
      "_________________________________________________________________\n",
      "activation_1 (Activation)    (None, 10, 10, 16)        0         \n",
      "_________________________________________________________________\n",
      "batch_normalization_1 (Batch (None, 10, 10, 16)        64        \n",
      "_________________________________________________________________\n",
      "conv2d_2 (Conv2D)            (None, 10, 10, 16)        2320      \n",
      "_________________________________________________________________\n",
      "activation_2 (Activation)    (None, 10, 10, 16)        0         \n",
      "_________________________________________________________________\n",
      "batch_normalization_2 (Batch (None, 10, 10, 16)        64        \n",
      "_________________________________________________________________\n",
      "max_pooling2d_1 (MaxPooling2 (None, 5, 5, 16)          0         \n",
      "_________________________________________________________________\n",
      "conv2d_3 (Conv2D)            (None, 5, 5, 32)          4640      \n",
      "_________________________________________________________________\n",
      "activation_3 (Activation)    (None, 5, 5, 32)          0         \n",
      "_________________________________________________________________\n",
      "batch_normalization_3 (Batch (None, 5, 5, 32)          128       \n",
      "_________________________________________________________________\n",
      "conv2d_4 (Conv2D)            (None, 5, 5, 32)          9248      \n",
      "_________________________________________________________________\n",
      "activation_4 (Activation)    (None, 5, 5, 32)          0         \n",
      "_________________________________________________________________\n",
      "batch_normalization_4 (Batch (None, 5, 5, 32)          128       \n",
      "_________________________________________________________________\n",
      "max_pooling2d_2 (MaxPooling2 (None, 2, 2, 32)          0         \n",
      "_________________________________________________________________\n",
      "flatten (Flatten)            (None, 128)               0         \n",
      "_________________________________________________________________\n",
      "dense (Dense)                (None, 128)               16512     \n",
      "_________________________________________________________________\n",
      "activation_5 (Activation)    (None, 128)               0         \n",
      "_________________________________________________________________\n",
      "batch_normalization_5 (Batch (None, 128)               512       \n",
      "_________________________________________________________________\n",
      "dropout (Dropout)            (None, 128)               0         \n",
      "_________________________________________________________________\n",
      "dense_1 (Dense)              (None, 128)               16512     \n",
      "_________________________________________________________________\n",
      "activation_6 (Activation)    (None, 128)               0         \n",
      "_________________________________________________________________\n",
      "batch_normalization_6 (Batch (None, 128)               512       \n",
      "_________________________________________________________________\n",
      "dropout_1 (Dropout)          (None, 128)               0         \n",
      "_________________________________________________________________\n",
      "dense_2 (Dense)              (None, 16)                2064      \n",
      "_________________________________________________________________\n",
      "activation_7 (Activation)    (None, 16)                0         \n",
      "=================================================================\n",
      "Total params: 54,112\n",
      "Trainable params: 53,392\n",
      "Non-trainable params: 720\n",
      "_________________________________________________________________\n"
     ],
     "output_type": "stream"
    }
   ],
   "source": [
    "from tensorflow.keras.models import Sequential, Model\n",
    "from tensorflow.keras.layers import Conv2D, MaxPooling2D, BatchNormalization\n",
    "from tensorflow.keras.layers import Activation, Dropout, Flatten, Dense\n",
    "from tensorflow.keras import regularizers, optimizers\n",
    "from keras.layers import GaussianNoise\n",
    "\n",
    "# 0.001\n",
    "# TODO tryt 1e-7\n",
    "sgd = optimizers.SGD(lr=0.01, decay=0.001, momentum=0.9, nesterov=True)\n",
    "\n",
    "model = Sequential()\n",
    "chanDim = -1\n",
    "\n",
    "# input\n",
    "model.add(Input(shape=(28, 28, 3)))\n",
    "model.add(Lambda(lambda x: tf.expand_dims(x[:,:,:,0], -1, name=None))) \n",
    "# this is a workaround. Dataloader automatically read one channel image as 3 channel \n",
    "#and we use Lambda layer to revert this back. Lambda layer can be used for operation \n",
    "#that does not involve trainianble weights\n",
    "\n",
    "model.add(Conv2D(8, (5, 5),kernel_regularizer=regularizers.l2(0.001)))\n",
    "model.add(BatchNormalization(axis=chanDim))\n",
    "model.add(Activation(\"relu\"))\n",
    "model.add(MaxPooling2D(pool_size=(2, 2)))\n",
    "\n",
    "# first set of (CONV => RELU => CONV => RELU) * 2 => POOL\n",
    "model.add(Conv2D(16, (3, 3),kernel_regularizer=regularizers.l2(0.001)))\n",
    "model.add(Activation(\"relu\"))\n",
    "model.add(BatchNormalization(axis=chanDim))\n",
    "model.add(Conv2D(16, (3, 3), padding=\"same\",kernel_regularizer=regularizers.l2(0.001)))\n",
    "model.add(Activation(\"relu\"))\n",
    "model.add(BatchNormalization(axis=chanDim))\n",
    "model.add(MaxPooling2D(pool_size=(2, 2)))\n",
    "# second set of (CONV => RELU => CONV => RELU) * 2 => POOL\n",
    "model.add(Conv2D(32, (3, 3), padding=\"same\",kernel_regularizer=regularizers.l2(0.001)))\n",
    "model.add(Activation(\"relu\"))\n",
    "model.add(BatchNormalization(axis=chanDim))\n",
    "model.add(Conv2D(32, (3, 3), padding=\"same\",kernel_regularizer=regularizers.l2(0.001)))\n",
    "model.add(Activation(\"relu\"))\n",
    "model.add(BatchNormalization(axis=chanDim))\n",
    "model.add(MaxPooling2D(pool_size=(2, 2)))\n",
    "\n",
    "# model.add(Conv2D(64, (3, 3), padding=\"same\",kernel_regularizer=regularizers.l2(0.001)))\n",
    "# model.add(Activation(\"relu\"))\n",
    "# model.add(BatchNormalization(axis=chanDim))\n",
    "# model.add(Conv2D(64, (3, 3), padding=\"same\",kernel_regularizer=regularizers.l2(0.001)))\n",
    "# model.add(Activation(\"relu\"))\n",
    "# model.add(BatchNormalization(axis=chanDim))\n",
    "# model.add(MaxPooling2D(pool_size=(2, 2),padding=\"same\"))\n",
    "\n",
    "\n",
    "# first set of FC => RELU layers\n",
    "model.add(Flatten())\n",
    "model.add(Dense(128,kernel_regularizer=regularizers.l2(0.001)))\n",
    "model.add(Activation(\"relu\"))\n",
    "model.add(BatchNormalization())\n",
    "model.add(Dropout(0.5))\n",
    "# second set of FC => RELU layers\n",
    "model.add(Dense(128,kernel_regularizer=regularizers.l2(0.001)))\n",
    "model.add(Activation(\"relu\"))\n",
    "model.add(BatchNormalization())\n",
    "model.add(Dropout(0.5))\n",
    "\n",
    "\n",
    "model.add(Dense(16))\n",
    "model.add(Activation('softmax'))\n",
    "\n",
    "\n",
    "model.compile(loss='categorical_crossentropy',\n",
    "              optimizer=sgd,\n",
    "              metrics=[categorical_accuracy])\n",
    "\n",
    "model.summary()"
   ],
   "metadata": {
    "collapsed": false,
    "pycharm": {
     "name": "#%%\n",
     "is_executing": false
    }
   }
  },
  {
   "cell_type": "code",
   "execution_count": 8,
   "outputs": [
    {
     "name": "stdout",
     "text": [
      "Training epoch 0: Loss = 3.909264326095581, Accuracy = 0.12608590722084045\n",
      "Validation epoch 0: Loss = 4.042646723564225, Accuracy = 0.17904041707515717\n",
      "Training epoch 1: Loss = 3.0262351036071777, Accuracy = 0.22950656712055206\n",
      "Validation epoch 1: Loss = 2.7871543831295438, Accuracy = 0.27525249123573303\n",
      "Training epoch 2: Loss = 2.581425189971924, Accuracy = 0.3236147463321686\n",
      "Validation epoch 2: Loss = 2.3455887454928774, Accuracy = 0.3623737394809723\n",
      "Training epoch 3: Loss = 2.312798261642456, Accuracy = 0.3912736475467682\n",
      "Validation epoch 3: Loss = 2.2756457437168467, Accuracy = 0.4131312668323517\n",
      "Training epoch 4: Loss = 2.087205171585083, Accuracy = 0.4618845283985138\n",
      "Validation epoch 4: Loss = 2.4574650778914946, Accuracy = 0.32777777314186096\n",
      "Training epoch 5: Loss = 1.9129717350006104, Accuracy = 0.5090391635894775\n",
      "Validation epoch 5: Loss = 2.17173973719279, Accuracy = 0.4762625992298126\n",
      "Training epoch 6: Loss = 1.823974847793579, Accuracy = 0.5417439341545105\n",
      "Validation epoch 6: Loss = 1.8088439341747398, Accuracy = 0.5393939018249512\n",
      "Training epoch 7: Loss = 1.68362295627594, Accuracy = 0.5884429216384888\n",
      "Validation epoch 7: Loss = 1.6377662420272827, Accuracy = 0.6083333492279053\n",
      "Training epoch 8: Loss = 1.5203107595443726, Accuracy = 0.6344003081321716\n",
      "Validation epoch 8: Loss = 1.541518391984882, Accuracy = 0.6345959305763245\n",
      "Training epoch 9: Loss = 1.4448457956314087, Accuracy = 0.6583653688430786\n",
      "Validation epoch 9: Loss = 1.359104527367486, Accuracy = 0.7022727131843567\n",
      "Training epoch 10: Loss = 1.3494988679885864, Accuracy = 0.6953529715538025\n",
      "Validation epoch 10: Loss = 1.2750206475306038, Accuracy = 0.7118687033653259\n",
      "Training epoch 11: Loss = 1.283410668373108, Accuracy = 0.7112939357757568\n",
      "Validation epoch 11: Loss = 1.224719462972699, Accuracy = 0.7391414642333984\n",
      "Training epoch 12: Loss = 1.1911929845809937, Accuracy = 0.7358172535896301\n",
      "Validation epoch 12: Loss = 1.2940861275701812, Accuracy = 0.696969747543335\n",
      "Training epoch 13: Loss = 1.1318409442901611, Accuracy = 0.7555863857269287\n",
      "Validation epoch 13: Loss = 0.9912455894730308, Accuracy = 0.7876262664794922\n",
      "Training epoch 14: Loss = 1.1055536270141602, Accuracy = 0.766396164894104\n",
      "Validation epoch 14: Loss = 1.03246470352616, Accuracy = 0.7780303359031677\n",
      "Training epoch 15: Loss = 1.0849748849868774, Accuracy = 0.7736672163009644\n",
      "Validation epoch 15: Loss = 1.015407402106006, Accuracy = 0.7813131213188171\n",
      "Training epoch 16: Loss = 1.034442663192749, Accuracy = 0.7899224162101746\n",
      "Validation epoch 16: Loss = 0.9460100399123298, Accuracy = 0.7962121367454529\n",
      "Training epoch 17: Loss = 0.9991010427474976, Accuracy = 0.7977674007415771\n",
      "Validation epoch 17: Loss = 0.9136459827423096, Accuracy = 0.8308081030845642\n",
      "Training epoch 18: Loss = 0.9762714505195618, Accuracy = 0.8087732195854187\n",
      "Validation epoch 18: Loss = 0.917754241312393, Accuracy = 0.8164141178131104\n",
      "Training epoch 19: Loss = 0.9695289134979248, Accuracy = 0.8081694841384888\n",
      "Validation epoch 19: Loss = 0.856113078919324, Accuracy = 0.8414140939712524\n",
      "Training epoch 20: Loss = 0.9147810935974121, Accuracy = 0.8346461057662964\n",
      "Validation epoch 20: Loss = 0.7670449945661756, Accuracy = 0.8641414046287537\n",
      "Training epoch 21: Loss = 0.8830997943878174, Accuracy = 0.839127779006958\n",
      "Validation epoch 21: Loss = 0.8288620252801916, Accuracy = 0.8547979593276978\n",
      "Training epoch 22: Loss = 0.8580544590950012, Accuracy = 0.8404691219329834\n",
      "Validation epoch 22: Loss = 0.8340828936509413, Accuracy = 0.8469696044921875\n",
      "Training epoch 23: Loss = 0.8495365381240845, Accuracy = 0.8431651592254639\n",
      "Validation epoch 23: Loss = 0.7121306392881606, Accuracy = 0.8861110806465149\n",
      "Training epoch 24: Loss = 0.8237590789794922, Accuracy = 0.8549631834030151\n",
      "Validation epoch 24: Loss = 0.7770739402433839, Accuracy = 0.870707094669342\n",
      "Training epoch 25: Loss = 0.8141105771064758, Accuracy = 0.859487771987915\n",
      "Validation epoch 25: Loss = 0.8348162800374657, Accuracy = 0.8537879586219788\n",
      "Training epoch 26: Loss = 0.7746308445930481, Accuracy = 0.8667702674865723\n",
      "Validation epoch 26: Loss = 0.7084462612566322, Accuracy = 0.8797979354858398\n",
      "Training epoch 27: Loss = 0.7557263374328613, Accuracy = 0.8668221831321716\n",
      "Validation epoch 27: Loss = 0.7371844068320111, Accuracy = 0.8752526640892029\n",
      "Training epoch 28: Loss = 0.7526852488517761, Accuracy = 0.8752373456954956\n",
      "Validation epoch 28: Loss = 0.6527731809953246, Accuracy = 0.9083333611488342\n",
      "Training epoch 29: Loss = 0.7547003626823425, Accuracy = 0.8794125318527222\n",
      "Validation epoch 29: Loss = 0.6289549072583517, Accuracy = 0.896969735622406\n",
      "Training epoch 30: Loss = 0.7160573601722717, Accuracy = 0.8821578621864319\n",
      "Validation epoch 30: Loss = 0.6275155339578184, Accuracy = 0.9093434810638428\n",
      "Training epoch 31: Loss = 0.7258079051971436, Accuracy = 0.8813579678535461\n",
      "Validation epoch 31: Loss = 0.5980596891557327, Accuracy = 0.9265151619911194\n",
      "Training epoch 32: Loss = 0.7187875509262085, Accuracy = 0.8906691074371338\n",
      "Validation epoch 32: Loss = 0.6266402939353326, Accuracy = 0.9060606360435486\n",
      "Training epoch 33: Loss = 0.6785005927085876, Accuracy = 0.8906132578849792\n",
      "Validation epoch 33: Loss = 0.6386349529328972, Accuracy = 0.9055555462837219\n",
      "Training epoch 34: Loss = 0.6776678562164307, Accuracy = 0.8944521546363831\n",
      "Validation epoch 34: Loss = 0.5987781256136269, Accuracy = 0.9209596514701843\n",
      "Training epoch 35: Loss = 0.6402446031570435, Accuracy = 0.9019168019294739\n",
      "Validation epoch 35: Loss = 0.570192905387493, Accuracy = 0.9383838772773743\n",
      "Training epoch 36: Loss = 0.6413030028343201, Accuracy = 0.9064046144485474\n",
      "Validation epoch 36: Loss = 0.5773405119626209, Accuracy = 0.9171717166900635\n",
      "Training epoch 37: Loss = 0.666106641292572, Accuracy = 0.8943001627922058\n",
      "Validation epoch 37: Loss = 0.6882105839974952, Accuracy = 0.8929293155670166\n",
      "Training epoch 38: Loss = 0.6206809878349304, Accuracy = 0.9121187329292297\n",
      "Validation epoch 38: Loss = 0.6237730097891104, Accuracy = 0.9025253057479858\n",
      "Training epoch 39: Loss = 0.6338002681732178, Accuracy = 0.9075008630752563\n",
      "Validation epoch 39: Loss = 0.9170624932857475, Accuracy = 0.8118686676025391\n",
      "Training epoch 40: Loss = 0.6077795624732971, Accuracy = 0.9087332487106323\n",
      "Validation epoch 40: Loss = 0.49604051883774575, Accuracy = 0.9532827734947205\n",
      "Training epoch 41: Loss = 0.6008266806602478, Accuracy = 0.9065515398979187\n",
      "Validation epoch 41: Loss = 0.5939012892318494, Accuracy = 0.916414201259613\n",
      "Training epoch 42: Loss = 0.6233017444610596, Accuracy = 0.9035671353340149\n",
      "Validation epoch 42: Loss = 0.5479791128274166, Accuracy = 0.9297979474067688\n",
      "Training epoch 43: Loss = 0.5879829525947571, Accuracy = 0.9103346467018127\n",
      "Validation epoch 43: Loss = 0.48535624628115187, Accuracy = 0.9512625336647034\n",
      "Training epoch 44: Loss = 0.5862966775894165, Accuracy = 0.9173561334609985\n",
      "Validation epoch 44: Loss = 0.5353270299506909, Accuracy = 0.940403938293457\n",
      "Training epoch 45: Loss = 0.570507824420929, Accuracy = 0.9268075823783875\n",
      "Validation epoch 45: Loss = 0.5405342440412503, Accuracy = 0.9297979474067688\n",
      "Training epoch 46: Loss = 0.5732770562171936, Accuracy = 0.9255232810974121\n",
      "Validation epoch 46: Loss = 0.5299312234526933, Accuracy = 0.9409091472625732\n",
      "Training epoch 47: Loss = 0.5730688571929932, Accuracy = 0.916306734085083\n",
      "Validation epoch 47: Loss = 0.5972532563739353, Accuracy = 0.90505051612854\n",
      "Training epoch 48: Loss = 0.5600919127464294, Accuracy = 0.9276101589202881\n",
      "Validation epoch 48: Loss = 0.4819001934745095, Accuracy = 0.9398990273475647\n",
      "Training epoch 49: Loss = 0.5528892874717712, Accuracy = 0.9287998676300049\n",
      "Validation epoch 49: Loss = 0.47239210449083885, Accuracy = 0.9424242377281189\n",
      "Training epoch 50: Loss = 0.5568665862083435, Accuracy = 0.9260687232017517\n",
      "Validation epoch 50: Loss = 0.4766085852276195, Accuracy = 0.940403938293457\n",
      "Training epoch 51: Loss = 0.5393239259719849, Accuracy = 0.9250583052635193\n",
      "Validation epoch 51: Loss = 0.5025574017052699, Accuracy = 0.9398989081382751\n",
      "Training epoch 52: Loss = 0.5429405570030212, Accuracy = 0.938849925994873\n",
      "Validation epoch 52: Loss = 0.5132731316667614, Accuracy = 0.9431818127632141\n",
      "Training epoch 53: Loss = 0.5484617948532104, Accuracy = 0.9244753122329712\n",
      "Validation epoch 53: Loss = 0.4810083062961848, Accuracy = 0.9487373232841492\n",
      "Training epoch 54: Loss = 0.5085798501968384, Accuracy = 0.93208909034729\n",
      "Validation epoch 54: Loss = 0.46572059754169354, Accuracy = 0.9558080434799194\n",
      "Training epoch 55: Loss = 0.5260854959487915, Accuracy = 0.933082640171051\n",
      "Validation epoch 55: Loss = 0.4709942641884389, Accuracy = 0.9545453786849976\n",
      "Training epoch 56: Loss = 0.5321781635284424, Accuracy = 0.9325370788574219\n",
      "Validation epoch 56: Loss = 0.5973014816491291, Accuracy = 0.898737370967865\n",
      "Training epoch 57: Loss = 0.48222291469573975, Accuracy = 0.9391628503799438\n",
      "Validation epoch 57: Loss = 0.45221176954230874, Accuracy = 0.9545454382896423\n",
      "Training epoch 58: Loss = 0.49335455894470215, Accuracy = 0.9445392489433289\n",
      "Validation epoch 58: Loss = 0.4337471548957054, Accuracy = 0.9545453786849976\n",
      "Training epoch 59: Loss = 0.5038493275642395, Accuracy = 0.9406628012657166\n",
      "Validation epoch 59: Loss = 0.44078100209284315, Accuracy = 0.9494949579238892\n",
      "Training epoch 60: Loss = 0.5116052031517029, Accuracy = 0.9358265399932861\n",
      "Validation epoch 60: Loss = 0.5860036981828285, Accuracy = 0.9156566262245178\n",
      "Training epoch 61: Loss = 0.5222600698471069, Accuracy = 0.9284491539001465\n",
      "Validation epoch 61: Loss = 0.479507410466069, Accuracy = 0.9429292678833008\n",
      "Training epoch 62: Loss = 0.48589882254600525, Accuracy = 0.9382615089416504\n",
      "Validation epoch 62: Loss = 0.4922042266286985, Accuracy = 0.9386363625526428\n",
      "Training epoch 63: Loss = 0.5075221061706543, Accuracy = 0.9404043555259705\n",
      "Validation epoch 63: Loss = 0.4395353312444205, Accuracy = 0.9520202279090881\n",
      "Training epoch 64: Loss = 0.48332861065864563, Accuracy = 0.9488663077354431\n",
      "Validation epoch 64: Loss = 0.46000938764726274, Accuracy = 0.9431818127632141\n",
      "Training epoch 65: Loss = 0.49115481972694397, Accuracy = 0.9415938854217529\n",
      "Validation epoch 65: Loss = 0.4460712069212789, Accuracy = 0.9507575631141663\n",
      "Training epoch 66: Loss = 0.4714116156101227, Accuracy = 0.942297637462616\n",
      "Validation epoch 66: Loss = 0.4813760151766768, Accuracy = 0.9421716928482056\n",
      "Training epoch 67: Loss = 0.47084206342697144, Accuracy = 0.9419860243797302\n",
      "Validation epoch 67: Loss = 0.45147505703598567, Accuracy = 0.9404039978981018\n",
      "Training epoch 68: Loss = 0.5018244981765747, Accuracy = 0.9376615881919861\n",
      "Validation epoch 68: Loss = 0.4744933894788376, Accuracy = 0.943686842918396\n",
      "Training epoch 69: Loss = 0.475389301776886, Accuracy = 0.9396069645881653\n",
      "Validation epoch 69: Loss = 0.40072348713874817, Accuracy = 0.9646463990211487\n",
      "Training epoch 70: Loss = 0.4482981860637665, Accuracy = 0.9527568221092224\n",
      "Validation epoch 70: Loss = 0.4216366997270873, Accuracy = 0.9659090042114258\n",
      "Training epoch 71: Loss = 0.4549359381198883, Accuracy = 0.9481233954429626\n",
      "Validation epoch 71: Loss = 0.42569632722873885, Accuracy = 0.9530302286148071\n",
      "Training epoch 72: Loss = 0.42229846119880676, Accuracy = 0.9583280682563782\n",
      "Validation epoch 72: Loss = 0.4435033972817239, Accuracy = 0.9512625336647034\n",
      "Training epoch 73: Loss = 0.4528478980064392, Accuracy = 0.9510621428489685\n",
      "Validation epoch 73: Loss = 0.43671526330890076, Accuracy = 0.9537878036499023\n",
      "Training epoch 74: Loss = 0.4582599103450775, Accuracy = 0.9463131427764893\n",
      "Validation epoch 74: Loss = 0.42920406659444177, Accuracy = 0.9462120532989502\n",
      "Training epoch 75: Loss = 0.46583274006843567, Accuracy = 0.9482182264328003\n",
      "Validation epoch 75: Loss = 0.4576716618706482, Accuracy = 0.9441918730735779\n",
      "Training epoch 76: Loss = 0.45056745409965515, Accuracy = 0.9471688866615295\n",
      "Validation epoch 76: Loss = 0.4140350008853758, Accuracy = 0.9588382840156555\n",
      "Training epoch 77: Loss = 0.41373002529144287, Accuracy = 0.9585241079330444\n",
      "Validation epoch 77: Loss = 0.3951034019089708, Accuracy = 0.9588384032249451\n",
      "Training epoch 78: Loss = 0.42610636353492737, Accuracy = 0.9585798978805542\n",
      "Validation epoch 78: Loss = 0.4074278503957421, Accuracy = 0.9626262784004211\n",
      "Training epoch 79: Loss = 0.41841939091682434, Accuracy = 0.9588761329650879\n",
      "Validation epoch 79: Loss = 0.4051776519327453, Accuracy = 0.9550504684448242\n",
      "Training epoch 80: Loss = 0.4426807761192322, Accuracy = 0.9485259652137756\n",
      "Validation epoch 80: Loss = 0.4205825644912142, Accuracy = 0.9558080434799194\n",
      "Training epoch 81: Loss = 0.42210647463798523, Accuracy = 0.9571255445480347\n",
      "Validation epoch 81: Loss = 0.4533534929005787, Accuracy = 0.947979748249054\n",
      "Training epoch 82: Loss = 0.43214499950408936, Accuracy = 0.9524451494216919\n",
      "Validation epoch 82: Loss = 0.4204519661990079, Accuracy = 0.9608585834503174\n",
      "Training epoch 83: Loss = 0.4369421601295471, Accuracy = 0.9491740465164185\n",
      "Validation epoch 83: Loss = 0.3990043317428743, Accuracy = 0.960606038570404\n",
      "Training epoch 84: Loss = 0.4198914170265198, Accuracy = 0.9525426030158997\n",
      "Validation epoch 84: Loss = 0.38499644609412764, Accuracy = 0.9633838534355164\n",
      "Training epoch 85: Loss = 0.4355247914791107, Accuracy = 0.9535984992980957\n",
      "Validation epoch 85: Loss = 0.470586528982779, Accuracy = 0.9497475028038025\n",
      "Training epoch 86: Loss = 0.4339107871055603, Accuracy = 0.9529503583908081\n",
      "Validation epoch 86: Loss = 0.44094285459229443, Accuracy = 0.9497474431991577\n",
      "Training epoch 87: Loss = 0.42324185371398926, Accuracy = 0.9554294347763062\n",
      "Validation epoch 87: Loss = 0.39587744889837323, Accuracy = 0.9621212482452393\n",
      "Training epoch 88: Loss = 0.41227442026138306, Accuracy = 0.956043541431427\n",
      "Validation epoch 88: Loss = 0.3757664555250997, Accuracy = 0.9664140343666077\n",
      "Training epoch 89: Loss = 0.4177907109260559, Accuracy = 0.9544503092765808\n",
      "Validation epoch 89: Loss = 0.3857000915691105, Accuracy = 0.9588384032249451\n",
      "Model saved\n"
     ],
     "output_type": "stream"
    }
   ],
   "source": [
    "def calculate_losses(model_in, data_generator_in, N_images, batch_size_):\n",
    "    loss_hold = []\n",
    "    acc_hold = []\n",
    "    batches = 0\n",
    "\n",
    "    # iterate over each batch\n",
    "    for x,y in data_generator_in:\n",
    "        loss, acc = model_in.evaluate(x, y, verbose=0)\n",
    "        loss_hold.append(loss)\n",
    "        acc_hold.append(acc)\n",
    "        batches += 1\n",
    "        if batches >= N_images / batch_size_:\n",
    "            # we need to break the loop by hand because the generator loops indefinitely\n",
    "            break\n",
    "\n",
    "    return np.mean(loss_hold), np.mean(acc_hold)\n",
    "\n",
    "\n",
    "def train_model_two(model_, num_epoch=90, verbose=False):\n",
    "    res = []\n",
    "    for e in range(num_epoch):\n",
    "        # print('Epoch', e)\n",
    "        batches = 0\n",
    "\n",
    "        loss_ = []\n",
    "        acc_ = []\n",
    "\n",
    "         # iterate over each batch\n",
    "        for x,y in train_generator:\n",
    "            loss, acc = model_.train_on_batch(x, y) # Update weights and return train loss, acc per batch\n",
    "            loss_.append(loss)\n",
    "            acc_.append(acc)\n",
    "            batches += 1\n",
    "            if batches >= N_train_images / batch_size:\n",
    "                # we need to break the loop by hand because\n",
    "                # the generator loops indefinitely\n",
    "                break\n",
    "        loss_ = np.mean(loss_)\n",
    "        acc_ = np.mean(acc_)\n",
    "\n",
    "        loss, acc = calculate_losses(model_, validation_generator, N_val_images, batch_size)\n",
    "        if verbose:\n",
    "            print(\"Training epoch {}: Loss = {}, Accuracy = {}\".format(e, loss_, acc_))\n",
    "            print(\"Validation epoch {}: Loss = {}, Accuracy = {}\".format(e, loss, acc))\n",
    "\n",
    "        res.append((e, loss_, acc_, loss, acc))\n",
    "\n",
    "    model_.save('model2.h5')\n",
    "    print('Model saved')\n",
    "\n",
    "    return np.asarray(res)\n",
    "\n",
    "\n",
    "\n",
    "res_two = train_model_two(model, num_epoch=90, verbose=True)\n",
    "\n",
    "\n",
    "\n",
    "def plot_results(res):\n",
    "    plt.figure(figsize=(12,4))\n",
    "    plt.subplot(1,2,1)\n",
    "    plt.plot(res[:,0], res[:,1], 'r-')\n",
    "    plt.plot(res[:,0], res[:,3], 'b-')\n",
    "    plt.legend(['Train', 'Validation'])\n",
    "    plt.xlabel('epoch')\n",
    "    plt.ylabel('Loss')\n",
    "    plt.ylim([0, np.max([5., np.max(res[:,1]), np.max(res[:,3])])])\n",
    "\n",
    "    plt.subplot(1,2,2)\n",
    "    plt.plot(res[:,0], res[:,2], 'r-')\n",
    "    plt.plot(res[:,0], res[:,4], 'b-')\n",
    "    plt.legend(['Train', 'Validation'])\n",
    "    plt.xlabel('epoch')\n",
    "    plt.ylabel('Accuracy')\n",
    "    plt.ylim([0, np.max([1., np.max(res[:,2]), np.max(res[:,4])])])\n"
   ],
   "metadata": {
    "collapsed": false,
    "pycharm": {
     "name": "#%%\n",
     "is_executing": false
    }
   }
  },
  {
   "cell_type": "markdown",
   "source": [
    "Predict Model 2"
   ],
   "metadata": {
    "collapsed": false
   }
  },
  {
   "cell_type": "code",
   "execution_count": 15,
   "outputs": [
    {
     "name": "stdout",
     "text": [
      "1\n",
      "<keras_preprocessing.image.dataframe_iterator.DataFrameIterator object at 0x0000026F9C501C48>\n"
     ],
     "output_type": "stream"
    },
    {
     "data": {
      "text/plain": "<Figure size 864x288 with 2 Axes>",
      "image/png": "[encoded data removed]"
     },
     "metadata": {
      "needs_background": "light"
     },
     "output_type": "display_data"
    }
   ],
   "source": [
    "plot_results(res_two)\n",
    "\n",
    "\n",
    "pred = model.predict(test_generator)\n",
    "print(np.argmax(pred[0]))\n",
    "\n",
    "predicted_class_indices=np.argmax(pred,axis=1)\n",
    "\n",
    "print(test_generator)\n",
    "\n",
    "labels = train_generator.class_indices\n",
    "labels = dict((v,k) for k,v in labels.items())\n",
    "\n",
    "predictions = [labels[k] for k in predicted_class_indices]\n"
   ],
   "metadata": {
    "collapsed": false,
    "pycharm": {
     "name": "#%%\n",
     "is_executing": false
    }
   }
  },
  {
   "cell_type": "markdown",
   "source": [
    "Results on test data"
   ],
   "metadata": {
    "collapsed": false
   }
  },
  {
   "cell_type": "code",
   "execution_count": 10,
   "outputs": [],
   "source": [
    "# TODO load model for easier testing"
   ],
   "metadata": {
    "collapsed": false,
    "pycharm": {
     "name": "#%%\n",
     "is_executing": false
    }
   }
  },
  {
   "cell_type": "code",
   "execution_count": 38,
   "outputs": [
    {
     "name": "stdout",
     "text": [
      "     Filename  Predictions\n",
      "0           1            1\n",
      "1           1            1\n",
      "2           7            7\n",
      "3           3            3\n",
      "4           5            5\n",
      "..        ...          ...\n",
      "735         1            1\n",
      "736         3            3\n",
      "737         0            0\n",
      "738        15           15\n",
      "739         6            6\n",
      "\n",
      "[740 rows x 2 columns]\n",
      "WARNING:tensorflow:sample_weight modes were coerced from\n",
      "  ...\n",
      "    to  \n",
      "  ['...']\n",
      "11/11 [==============================] - 3s 288ms/step - loss: 0.3604 - categorical_accuracy: 0.9716\b\b\b\b\b\b\b\b\b\b\b\b\b\b\b\b\b\b\b\b\b\b\b\b\b\b\b\b\b\b\b\b\b\b\b\b\b\b\b\b\b\b\b\b\b\b\b\b\b\b\b\b\b\b\b\b\b\b\b\b\b\b\b\b\b\b\b\b\b\b\b\b\b\b\b\b\b\b\b\b\b\b\b\b\b\b\b\b\b\b\b\b\b\b\b\b\b\b\b\b\b\b\b\b\b\b\b\b\b\b\b\b\b\b\b\b\b\b\b\b\b\b\b\b\b\b\b\b\b\b\b\b\b\b\b\b\b\b\b\b\b\b\b\b\b\b\b\b\b\b\b\b\b\b\b\b\b\b\b\b\b\b\b\b\b\b\b\b\b\b\b\b\b\b\b\b\b\b\b\b\b\b\b\b\b\b\b\b\b\b\b\b\b\b\b\b\b\b\b\b\b\b\b\b\b\b\b\b\b\b\b\b\b\b\b\b\b\b\b\b\b\b\b\b\b\b\b\b\b\b\b\b\b\b\b\b\b\b\b\b\b\b\b\b\b\b\b\b\b\b\b\b\b\b\b\b\b\b\b\b\b\b\b\b\b\b\b\b\b\b\b\b\b\b\b\b\b\b\b\b\b\b\b\b\b\b\b\b\b\b\b\b\b\b\b\b\b\b\b\b\b\b\b\b\b\b\b\b\b\b\b\b\b\b\b\b\b\b\b\b\b\b\b\b\b\b\b\b\b\b\b\b\b\b\b\b\b\b\b\b\b\b\b\b\b\b\b\b\b\b\b\b\b\b\b\b\b\b\b\b\b\b\b\b\b\b\b\b\b\b\b\b\b\b\b\b\b\b\b\b\b\b\b\b\b\b\b\b\b\b\b\b\b\b\b\b\b\b\b\b\b\b\b\b\b\b\b\b\b\b\b\b\b\b\b\b\b\b\b\b\b\b\b\b\b\b\b\b\b\b\b\b\b\b\b\b\b\b\b\b\b\b\b\b\b\b\b\b\b\b\b\b\b\b\b\b\b\b\b\b\b\b\b\b\b\b\b\b\b\b\b\b\b\b\b\b\b\b\b\b\b\b\b\b\b\b\b\b\b\b\b\b\b\b\b\b\b\b\b\b\b\b\b\b\b\b\b\b\b\b\b\b\b\b\b\b\b\b\b\b\b\b\b\b\b\b\b\b\b\b\b\b\b\b\b\b\b\b\b\b\b\b\b\b\b\b\b\b\b\b\b\b\b\b\b\b\b\b\b\b\b\b\b\b\b\b\b\b\b\b\b\b\b\b\b\b\b\b\b\b\b\b\b\b\b\b\b\b\b\b\b\b\b\b\b\b\b\b\b\b\b\b\b\b\b\b\b\b\b\b\b\b\b\b\b\b\b\b\b\b\b\b\b\b\b\b\b\b\b\b\b\b\b\b\b\b\b\b\b\b\b\b\b\b\b\b\b\b\b\b\b\b\b\b\b\b\b\b\b\b\b\b\b\b\b\b\b\b\b\b\b\b\b\b\b\b\b\b\b\b\b\b\b\b\b\b\b\b\b\b\b\b\b\b\b\b\b\b\b\b\b\b\b\b\b\b\b\b\b\b\b\b\b\b\b\b\b\b\b\b\b\b\b\b\b\b\b\b\b\b\b\b\b\b\b\b\b\b\b\b\b\b\b\b\b\b\b\b\b\b\b\b\b\b\b\b\b\b\b\b\b\b\b\b\b\b\b\b\b\b\b\b\b\b\b\b\b\b\b\b\b\b\b\b\b\b\b\b\b\b\b\b\b\b\b\b\b\b\b\b\b\b\b\b\b\b\b\b\b\b\b\b\b\b\b\b\b\b\b\b\b\b\b\b\b\b\b\b\b\b\b\b\b\b\b\b\b\b\b\b\n",
      "[0.36036342924291437, 0.97162163]\n"
     ],
     "output_type": "stream"
    }
   ],
   "source": [
    "# test classes\n",
    "test_classes = np.array(test_generator.classes)\n",
    "\n",
    "test_labels = test_generator.class_indices\n",
    "test_labels = dict((v,k) for k,v in test_labels.items())\n",
    "\n",
    "test_class = [test_labels[k] for k in test_classes]\n",
    "\n",
    "\n",
    "filenames=test_generator.classes\n",
    "\n",
    "results=pd.DataFrame({\"Filename\":test_classes,\n",
    "                      \"Predictions\":predicted_class_indices})\n",
    "print(results)\n",
    "\n",
    "\n",
    "tests = model.evaluate(test_generator)\n",
    "print(tests)"
   ],
   "metadata": {
    "collapsed": false,
    "pycharm": {
     "name": "#%%\n",
     "is_executing": false
    }
   }
  },
  {
   "cell_type": "markdown",
   "source": [
    "## loss: 0.3604 - categorical_accuracy: 0.9716 on testing \n",
    " now for...\n",
    "# Real World Data"
   ],
   "metadata": {
    "collapsed": false
   }
  },
  {
   "cell_type": "code",
   "execution_count": 69,
   "outputs": [
    {
     "name": "stdout",
     "text": [
      "                                        image_path sign_shape   sign_type  \\\n",
      "0    Test\\diamond\\rightofway\\00012_00000_00001.png    diamond  rightofway   \n",
      "1    Test\\diamond\\rightofway\\00012_00000_00002.png    diamond  rightofway   \n",
      "2    Test\\diamond\\rightofway\\00012_00000_00003.png    diamond  rightofway   \n",
      "3    Test\\diamond\\rightofway\\00012_00000_00004.png    diamond  rightofway   \n",
      "4    Test\\diamond\\rightofway\\00012_00000_00005.png    diamond  rightofway   \n",
      "..                                             ...        ...         ...   \n",
      "801    Test\\triangle\\warning\\00029_00003_00026.png   triangle     warning   \n",
      "802    Test\\triangle\\warning\\00030_00002_00023.png   triangle     warning   \n",
      "803    Test\\triangle\\warning\\00030_00002_00027.png   triangle     warning   \n",
      "804    Test\\triangle\\warning\\00030_00003_00008.png   triangle     warning   \n",
      "805    Test\\triangle\\warning\\00030_00003_00019.png   triangle     warning   \n",
      "\n",
      "     shapes_num  \n",
      "0             0  \n",
      "1             0  \n",
      "2             0  \n",
      "3             0  \n",
      "4             0  \n",
      "..          ...  \n",
      "801          15  \n",
      "802          15  \n",
      "803          15  \n",
      "804          15  \n",
      "805          15  \n",
      "\n",
      "[806 rows x 4 columns]\n"
     ],
     "output_type": "stream"
    }
   ],
   "source": [
    "\n",
    "from PIL import Image\n",
    "from resizeimage import resizeimage\n",
    "\n",
    "image_list = []\n",
    "    # -3 means back one directory\n",
    "# filename/shape/type/label\n",
    "for filepath in glob.glob('Test/*/*/*.png', recursive=True):\n",
    "     filename = filepath.split(\"\\\\\")[-1]\n",
    "     sign_shape = filepath.split(\"\\\\\")[-2]\n",
    "     sign_type = filepath.split(\"\\\\\")[-3]\n",
    "     \n",
    "     image_list.append((filepath,sign_type,sign_shape))\n",
    "     \n",
    "real_word_data = pd.DataFrame(data=image_list, columns=['image_path','sign_shape', 'sign_type'])\n",
    "\n",
    "\n",
    "d = {'rightofway':0, 'stop':1, 'bicycle':2,\n",
    "     'limitedtraffic':3, 'noentry':4, 'noparking':5,\n",
    "     'roundabout':6, 'speed':7,'trafficdirective':8,\n",
    "     'traveldirection':9,'continue':10,'crossing':11,\n",
    "     'laneend':12, 'parking':13, 'giveway':14, 'warning':15}\n",
    "\n",
    "real_word_data['shapes_num'] = real_word_data['sign_type'].map(d, na_action='ignore')\n",
    "\n",
    "print(real_word_data)"
   ],
   "metadata": {
    "collapsed": false,
    "pycharm": {
     "name": "#%%\n",
     "is_executing": false
    }
   }
  },
  {
   "cell_type": "code",
   "execution_count": 70,
   "outputs": [],
   "source": [
    "# grey scale\n",
    "for image_path in real_word_data['image_path']:\n",
    "    img = Image.open(image_path).convert('LA')\n",
    "    img.save(image_path)\n",
    "\n",
    "\n",
    "# Resize images\n",
    "for image_path in real_word_data['image_path']:\n",
    "    with open(image_path, 'r+b') as f:\n",
    "        with Image.open(f) as image:\n",
    "            cover = resizeimage.resize_cover(image, [28, 28])\n",
    "            cover.save(image_path, image.format)\n"
   ],
   "metadata": {
    "collapsed": false,
    "pycharm": {
     "name": "#%%\n",
     "is_executing": false
    }
   }
  },
  {
   "cell_type": "code",
   "execution_count": null,
   "outputs": [],
   "source": [],
   "metadata": {
    "collapsed": false,
    "pycharm": {
     "name": "#%%\n"
    }
   }
  },
  {
   "cell_type": "code",
   "execution_count": 68,
   "outputs": [
    {
     "name": "stdout",
     "text": [
      "Found 762 validated image filenames belonging to 16 classes.\n",
      "     Filename  Predictions\n",
      "0           9            9\n",
      "1           9            9\n",
      "2           9            9\n",
      "3           9            9\n",
      "4           9            9\n",
      "..        ...          ...\n",
      "757        15           15\n",
      "758        15           15\n",
      "759        15           15\n",
      "760        15           15\n",
      "761        15           15\n",
      "\n",
      "[762 rows x 2 columns]\n",
      "WARNING:tensorflow:sample_weight modes were coerced from\n",
      "  ...\n",
      "    to  \n",
      "  ['...']\n",
      "11/11 [==============================] - 1s 74ms/step - loss: 1.4143 - categorical_accuracy: 0.6850\b\b\b\b\b\b\b\b\b\b\b\b\b\b\b\b\b\b\b\b\b\b\b\b\b\b\b\b\b\b\b\b\b\b\b\b\b\b\b\b\b\b\b\b\b\b\b\b\b\b\b\b\b\b\b\b\b\b\b\b\b\b\b\b\b\b\b\b\b\b\b\b\b\b\b\b\b\b\b\b\b\b\b\b\b\b\b\b\b\b\b\b\b\b\b\b\b\b\b\b\b\b\b\b\b\b\b\b\b\b\b\b\b\b\b\b\b\b\b\b\b\b\b\b\b\b\b\b\b\b\b\b\b\b\b\b\b\b\b\b\b\b\b\b\b\b\b\b\b\b\b\b\b\b\b\b\b\b\b\b\b\b\b\b\b\b\b\b\b\b\b\b\b\b\b\b\b\b\b\b\b\b\b\b\b\b\b\b\b\b\b\b\b\b\b\b\b\b\b\b\b\b\b\b\b\b\b\b\b\b\b\b\b\b\b\b\b\b\b\b\b\b\b\b\b\b\b\b\b\b\b\b\b\b\b\b\b\b\b\b\b\b\b\b\b\b\b\b\b\b\b\b\b\b\b\b\b\b\b\b\b\b\b\b\b\b\b\b\b\b\b\b\b\b\b\b\b\b\b\b\b\b\b\b\b\b\b\b\b\b\b\b\b\b\b\b\b\b\b\b\b\b\b\b\b\b\b\b\b\b\b\b\b\b\b\b\b\b\b\b\b\b\b\b\b\b\b\b\b\b\b\b\b\b\b\b\b\b\b\b\b\b\b\b\b\b\b\b\b\b\b\b\b\b\b\b\b\b\b\b\b\b\b\b\b\b\b\b\b\b\b\b\b\b\b\b\b\b\b\b\b\b\b\b\b\b\b\b\b\b\b\b\b\b\b\b\b\b\b\b\b\b\b\b\b\b\b\b\b\b\b\b\b\b\b\b\b\b\b\b\b\b\b\b\b\b\b\b\b\b\b\b\b\b\b\b\b\b\b\b\b\b\b\b\b\b\b\b\b\b\b\b\b\b\b\b\b\b\b\b\b\b\b\b\b\b\b\b\b\b\b\b\b\b\b\b\b\b\b\b\b\b\b\b\b\b\b\b\b\b\b\b\b\b\b\b\b\b\b\b\b\b\b\b\b\b\b\b\b\b\b\b\b\b\b\b\b\b\b\b\b\b\b\b\b\b\b\b\b\b\b\b\b\b\b\b\b\b\b\b\b\b\b\b\b\b\b\b\b\b\b\b\b\b\b\b\b\b\b\b\b\b\b\b\b\b\b\b\b\b\b\b\b\b\b\b\b\b\b\b\b\b\b\b\b\b\b\b\b\b\b\b\b\b\b\b\b\b\b\b\b\b\b\b\b\b\b\b\b\b\b\b\b\b\b\b\b\b\b\b\b\b\b\b\b\b\b\b\b\b\b\b\b\b\b\b\b\b\b\b\b\b\b\b\b\b\b\b\b\b\b\b\b\b\b\b\b\b\b\b\b\b\b\b\b\b\b\b\b\b\b\b\b\b\b\b\b\b\b\b\b\b\b\b\b\b\b\b\b\b\b\b\b\b\b\b\b\b\b\b\b\b\b\b\b\b\b\b\b\b\b\b\b\b\b\b\b\b\b\b\b\b\b\b\b\b\b\b\b\b\b\b\b\b\b\b\b\b\b\b\b\b\b\b\b\b\b\b\b\b\b\b\b\b\b\b\b\b\b\b\b\b\b\b\b\b\b\b\b\b\b\b\b\b\b\b\b\b\b\b\b\b\b\b\b\b\b\b\b\b\b\b\b\b\b\b\b\b\b\b\b\b\b\b\b\b\b\b\b\b\b\b\b\b\b\b\b\b\b\b\b\b\b\b\b\b\b\b\b\b\b\b\b\b\b\b\b\b\b\b\b\n",
      "[1.414317177100615, 0.68503934]\n"
     ],
     "output_type": "stream"
    }
   ],
   "source": [
    "#Image Setup\n",
    "\n",
    "real_test_datagen = ImageDataGenerator(rescale=1./255, data_format='channels_last')\n",
    "\n",
    "\n",
    "real_test_generator = real_test_datagen.flow_from_dataframe(\n",
    "        dataframe=real_word_data,\n",
    "        directory='./',\n",
    "        x_col=\"image_path\",\n",
    "        y_col=\"sign_type\",\n",
    "        target_size=(28, 28),\n",
    "        batch_size=batch_size,\n",
    "        class_mode='categorical', shuffle=False\n",
    ")\n",
    "\n",
    "\n",
    "\n",
    "real_pred = model.predict(real_test_generator)\n",
    "\n",
    "\n",
    "real_predicted_class_indices=np.argmax(real_pred,axis=1)\n",
    "\n",
    "# test classes\n",
    "real_test_classes = np.array(real_test_generator.classes)\n",
    "\n",
    "real_test_labels = real_test_generator.class_indices\n",
    "real_test_labels = dict((v,k) for k,v in real_test_labels.items())\n",
    "\n",
    "real_test_class = [real_test_labels[k] for k in real_test_classes]\n",
    "\n",
    "\n",
    "filenames=real_test_generator.classes\n",
    "\n",
    "results=pd.DataFrame({\"Filename\":real_test_classes,\n",
    "                      \"Predictions\":real_predicted_class_indices})\n",
    "print(results)\n",
    "\n",
    "\n",
    "tests = model.evaluate(real_test_generator)\n",
    "print(tests)\n"
   ],
   "metadata": {
    "collapsed": false,
    "pycharm": {
     "name": "#%%\n",
     "is_executing": false
    }
   }
  },
  {
   "cell_type": "markdown",
   "source": [
    "loss: 1.4143 - categorical_accuracy: 0.6850\n"
   ],
   "metadata": {
    "collapsed": false
   }
  }
 ],
 "metadata": {
  "kernelspec": {
   "display_name": "Python 3",
   "language": "python",
   "name": "python3"
  },
  "language_info": {
   "codemirror_mode": {
    "name": "ipython",
    "version": 2
   },
   "file_extension": ".py",
   "mimetype": "text/x-python",
   "name": "python",
   "nbconvert_exporter": "python",
   "pygments_lexer": "ipython2",
   "version": "2.7.6"
  },
  "pycharm": {
   "stem_cell": {
    "cell_type": "raw",
    "source": [],
    "metadata": {
     "collapsed": false
    }
   }
  }
 },
 "nbformat": 4,
 "nbformat_minor": 0
}